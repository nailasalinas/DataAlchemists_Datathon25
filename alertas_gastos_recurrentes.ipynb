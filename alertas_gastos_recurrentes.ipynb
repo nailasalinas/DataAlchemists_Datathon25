{
  "nbformat": 4,
  "nbformat_minor": 0,
  "metadata": {
    "colab": {
      "provenance": []
    },
    "kernelspec": {
      "name": "python3",
      "display_name": "Python 3"
    },
    "language_info": {
      "name": "python"
    }
  },
  "cells": [
    {
      "cell_type": "code",
      "source": [
        "import pandas as pd\n",
        "\n",
        "def detectar_alertas_automaticamente_csv(path_csv, comercio_objetivo, mes_objetivo):\n",
        "    \"\"\"\n",
        "    Carga un archivo CSV, estandariza nombres de comercio, asigna giros,\n",
        "    calcula moda por cliente y comercio, y detecta alertas para un comercio y mes específico.\n",
        "    \"\"\"\n",
        "\n",
        "    # Cargar archivo CSV\n",
        "    df = pd.read_csv(path_csv)\n",
        "\n",
        "    # Reemplazos para estandarizar nombres de comercios\n",
        "    reemplazos = {\n",
        "        'SMARTFIT': 'SMART FIT', 'SMART FIT': 'SMART FIT',\n",
        "        'TOTAL PLAY': 'TOTALPLAY', 'TOTALPLAY': 'TOTALPLAY',\n",
        "        'GOOGLE YOUTUBE': 'GOOGLE',\n",
        "        'DIDI FOOD': 'DIDIFOOD', 'DIDIFOOD': 'DIDIFOOD',\n",
        "        'WAL-MART': 'WALMART',\n",
        "        'MERCADOPAGO': 'MERCADO PAGO',\n",
        "        'MI ATT': 'AT&T', 'ATT': 'AT&T',\n",
        "        'TOTALPASS': 'TOTAL PASS'\n",
        "    }\n",
        "    df['comercio'] = df['comercio'].replace(reemplazos)\n",
        "\n",
        "    # Clasificación por giros\n",
        "    giros = {\n",
        "        'OXXO': 'Conveniencia', '7 ELEVEN': 'Conveniencia', '7ELEVEN': 'Conveniencia',\n",
        "        'OXXO GAS': 'Gasolineras', 'COSTCO GAS': 'Gasolineras',\n",
        "        'WALMART': 'Supermercado', 'SUPERCENTER': 'Supermercado', 'SUPERAMA': 'Supermercado',\n",
        "        'SORIANA': 'Supermercado', 'HEB': 'Supermercado', 'CHEDRAUI': 'Supermercado', 'ALSUPER': 'Supermercado',\n",
        "        'SAMS CLUB': 'Club de mayoreo', 'COSTCO': 'Club de mayoreo',\n",
        "        'TELCEL': 'Telefonía móvil', 'AT&T': 'Telefonía móvil', 'BAIT': 'Telefonía móvil', 'TELEFONICA': 'Telefonía móvil',\n",
        "        'TELMEX': 'Internet / TV de paga', 'TOTALPLAY': 'Internet / TV de paga', 'IZZI': 'Internet / TV de paga',\n",
        "        'MEGACABLE': 'Internet / TV de paga', 'CABLEYCOMUN': 'Internet / TV de paga',\n",
        "        'NETFLIX': 'Streaming de video', 'DISNEY PLUS': 'Streaming de video', 'AMAZON PRIME': 'Streaming de video',\n",
        "        'CRUNCHYROLL': 'Streaming de video', 'MAX': 'Streaming de video', 'VIX': 'Streaming de video', 'ROKU': 'Streaming de video',\n",
        "        'SPOTIFY': 'Streaming de música', 'ITUNES': 'Streaming de música', 'AUDIBLE': 'Streaming de música',\n",
        "        'GOOGLE YOUTUBEPREMIUM': 'Streaming de música', 'GOOGLE YOUTUBE': 'Streaming de música',\n",
        "        'OPENAI': 'Suscripción digital', 'GOOGLE ONE': 'Suscripción digital', 'APPLE': 'Suscripción digital',\n",
        "        'MICROSOFT': 'Suscripción digital', 'TOTAL PASS': 'Suscripción digital',\n",
        "        'ADOBE': 'Plataforma de diseño', 'CANVA': 'Plataforma de diseño',\n",
        "        'UBER': 'Movilidad', 'DIDI': 'Movilidad', 'DIDI RIDES': 'Movilidad',\n",
        "        'UBER EATS': 'Delivery de comida', 'DIDI FOOD': 'Delivery de comida', 'DIDIFOOD': 'Delivery de comida',\n",
        "        'RAPPI': 'Delivery de comida', 'SOFT RAPPI': 'Delivery de comida',\n",
        "        'RAPPIPRO': 'Suscripción de comida',\n",
        "        'FARMACIAS DEL AHORRO': 'Farmacia', 'FARMACIAS GUADALAJARA': 'Farmacia', 'FARMACIAS SIMILARES': 'Farmacia',\n",
        "        'STARBUCKS': 'Restaurante / Cafetería', 'CARLS JR': 'Restaurante / Cafetería', 'MELIMAS': 'Restaurante / Cafetería',\n",
        "        'LIVERPOOL': 'Retail', 'SEARS': 'Retail', 'COPPEL': 'Retail',\n",
        "        'CALIENTE': 'Apuestas y loterías', 'TULOTERO': 'Apuestas y loterías', 'BET365': 'Apuestas y loterías',\n",
        "        'CFE': 'Servicios públicos', 'SERV AGUA DREN': 'Servicios públicos',\n",
        "        'KUESKI PAY': 'Fintech / BNPL', 'APLAZO': 'Fintech / BNPL', 'APLAZ': 'Fintech / BNPL', 'CASHI ECOMMERCE': 'Fintech / BNPL',\n",
        "        'MERCADO PAGO': 'Pasarela de pago',\n",
        "        'AMAZON': 'Marketplace / E-commerce', 'ALIEXPRESS': 'Marketplace / E-commerce', 'TEMU': 'Marketplace / E-commerce',\n",
        "        'MI ATT': 'Gestión de pagos móviles', 'RENTAMOVISTAR': 'Gestión de pagos móviles', 'UBRPAGOSMEX': 'Gestión de pagos móviles',\n",
        "        'METROBUS': 'Transporte', 'URBANI': 'Transporte', 'PARCO': 'Transporte',\n",
        "        'FACEBOOK': 'Otros', 'NAYAX': 'Otros', 'BAE': 'Otros', 'SMART': 'Otros', 'ROTOPLAS': 'Otros', 'PLAYSTATION NETWORK': 'Otros'\n",
        "    }\n",
        "    df['giro_DA'] = df['comercio'].map(giros).fillna('Sin clasificar')\n",
        "\n",
        "    # Procesar fechas y crear columna 'anio_mes'\n",
        "    df['fecha'] = pd.to_datetime(df['fecha'])\n",
        "    df['anio_mes'] = df['fecha'].dt.to_period('M').astype(str)\n",
        "\n",
        "    # Calcular moda por cliente y comercio\n",
        "    df_moda = (\n",
        "        df.groupby(['id', 'comercio'])['monto']\n",
        "        .agg(lambda x: x.mode().iloc[0] if not x.mode().empty else x.iloc[0])\n",
        "        .reset_index()\n",
        "        .rename(columns={'monto': 'monto_moda'})\n",
        "    )\n",
        "    dict_moda = df_moda.set_index(['id', 'comercio'])['monto_moda'].to_dict()\n",
        "\n",
        "    # Calcular diferencia y alerta\n",
        "    df['diferencia_vs_moda'] = df.apply(\n",
        "        lambda row: row['monto'] - dict_moda.get((row['id'], row['comercio']), 0), axis=1\n",
        "    )\n",
        "    df['alerta'] = df['diferencia_vs_moda'] > 0\n",
        "\n",
        "    # Filtrar resultados\n",
        "    df_resultado = df[\n",
        "        (df['comercio'].str.lower() == comercio_objetivo.lower()) &\n",
        "        (df['anio_mes'] == mes_objetivo) &\n",
        "        (df['alerta'])\n",
        "    ]\n",
        "\n",
        "    return df_resultado[['id', 'comercio', 'anio_mes', 'monto', 'diferencia_vs_moda', 'alerta', 'giro_DA']], df"
      ],
      "metadata": {
        "id": "9eYrfM9O2flm"
      },
      "execution_count": 26,
      "outputs": []
    },
    {
      "cell_type": "code",
      "source": [
        "ruta_csv = '/content/base_transacciones_final(in).csv'\n",
        "\n",
        "df_alertas, df = detectar_alertas_automaticamente_csv(\n",
        "    path_csv=ruta_csv,\n",
        "    comercio_objetivo='netflix',\n",
        "    mes_objetivo='2022-12'\n",
        ")\n",
        "\n",
        "print(df_alertas)"
      ],
      "metadata": {
        "colab": {
          "base_uri": "https://localhost:8080/"
        },
        "id": "cR46dRNn2fc-",
        "outputId": "bc56fde2-53e0-4b22-c2e6-4baed72038ee"
      },
      "execution_count": 27,
      "outputs": [
        {
          "output_type": "stream",
          "name": "stdout",
          "text": [
            "                                              id comercio anio_mes  monto  \\\n",
            "7069    8d2d5fdb0101dbecdbdbd7e9bf92e59f04233cae  NETFLIX  2022-12  19.66   \n",
            "7331    798aaf7e3d3e55f454267e32ab64b52f87d84567  NETFLIX  2022-12  38.04   \n",
            "12409   62963834e157b2e52e0db4f39171a160ab243f30  NETFLIX  2022-12  13.91   \n",
            "15963   c59a9663a700f80b76dfe4e9d40122cb404110c1  NETFLIX  2022-12  28.85   \n",
            "17001   3e86f3f66a96699fe2a84164892b66138b87c333  NETFLIX  2022-12  13.91   \n",
            "...                                          ...      ...      ...    ...   \n",
            "325438  d359ab417e34fe192e8d846b6427d2f764f46683  NETFLIX  2022-12  45.96   \n",
            "331317  298d41a93ab1b0da3975e94d3fe4fa179b147ac5  NETFLIX  2022-12  13.91   \n",
            "333608  38aea4f15b9ddd201ad4126c09ac898ff4fa26fd  NETFLIX  2022-12  28.85   \n",
            "334520  5a1c6d0a09d4fa2fffad2c2f13ad73960a0f9c5e  NETFLIX  2022-12  38.04   \n",
            "345966  710f13196a0f9109e22bc73c2fe76f22fbef3dc1  NETFLIX  2022-12  19.66   \n",
            "\n",
            "        diferencia_vs_moda  alerta             giro_DA  \n",
            "7069                  3.45    True  Streaming de video  \n",
            "7331                  3.45    True  Streaming de video  \n",
            "12409                 2.29    True  Streaming de video  \n",
            "15963                 3.45    True  Streaming de video  \n",
            "17001                 2.29    True  Streaming de video  \n",
            "...                    ...     ...                 ...  \n",
            "325438                3.44    True  Streaming de video  \n",
            "331317                2.29    True  Streaming de video  \n",
            "333608                3.45    True  Streaming de video  \n",
            "334520               12.64    True  Streaming de video  \n",
            "345966                3.45    True  Streaming de video  \n",
            "\n",
            "[169 rows x 7 columns]\n"
          ]
        }
      ]
    },
    {
      "cell_type": "code",
      "source": [
        "df_ejemplo = df[\n",
        "    (df['comercio'].str.lower() == 'netflix') &\n",
        "    (df['id'] == '798aaf7e3d3e55f454267e32ab64b52f87d84567')\n",
        "]\n",
        "print(df_ejemplo[['id', 'comercio', 'anio_mes', 'monto', 'diferencia_vs_moda']])"
      ],
      "metadata": {
        "colab": {
          "base_uri": "https://localhost:8080/"
        },
        "id": "kfCmxlEG4Lzi",
        "outputId": "c5c02972-b4d4-426d-fa61-5359967196ae"
      },
      "execution_count": 28,
      "outputs": [
        {
          "output_type": "stream",
          "name": "stdout",
          "text": [
            "                                            id comercio anio_mes  monto  \\\n",
            "7104  798aaf7e3d3e55f454267e32ab64b52f87d84567  NETFLIX  2022-01  34.59   \n",
            "7120  798aaf7e3d3e55f454267e32ab64b52f87d84567  NETFLIX  2022-02  34.59   \n",
            "7142  798aaf7e3d3e55f454267e32ab64b52f87d84567  NETFLIX  2022-03  34.59   \n",
            "7173  798aaf7e3d3e55f454267e32ab64b52f87d84567  NETFLIX  2022-04  34.59   \n",
            "7199  798aaf7e3d3e55f454267e32ab64b52f87d84567  NETFLIX  2022-05  34.59   \n",
            "7218  798aaf7e3d3e55f454267e32ab64b52f87d84567  NETFLIX  2022-06  34.59   \n",
            "7231  798aaf7e3d3e55f454267e32ab64b52f87d84567  NETFLIX  2022-07  34.59   \n",
            "7244  798aaf7e3d3e55f454267e32ab64b52f87d84567  NETFLIX  2022-08  34.59   \n",
            "7264  798aaf7e3d3e55f454267e32ab64b52f87d84567  NETFLIX  2022-09  34.59   \n",
            "7286  798aaf7e3d3e55f454267e32ab64b52f87d84567  NETFLIX  2022-10  34.59   \n",
            "7309  798aaf7e3d3e55f454267e32ab64b52f87d84567  NETFLIX  2022-11  34.59   \n",
            "7331  798aaf7e3d3e55f454267e32ab64b52f87d84567  NETFLIX  2022-12  38.04   \n",
            "7356  798aaf7e3d3e55f454267e32ab64b52f87d84567  NETFLIX  2023-01  38.04   \n",
            "\n",
            "      diferencia_vs_moda  \n",
            "7104                0.00  \n",
            "7120                0.00  \n",
            "7142                0.00  \n",
            "7173                0.00  \n",
            "7199                0.00  \n",
            "7218                0.00  \n",
            "7231                0.00  \n",
            "7244                0.00  \n",
            "7264                0.00  \n",
            "7286                0.00  \n",
            "7309                0.00  \n",
            "7331                3.45  \n",
            "7356                3.45  \n"
          ]
        }
      ]
    }
  ]
}